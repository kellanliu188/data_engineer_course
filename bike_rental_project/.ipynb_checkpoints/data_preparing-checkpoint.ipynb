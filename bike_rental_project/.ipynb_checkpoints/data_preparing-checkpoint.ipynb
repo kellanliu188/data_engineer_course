{
 "cells": [
  {
   "cell_type": "code",
   "execution_count": 1,
   "id": "fbf871d4",
   "metadata": {},
   "outputs": [],
   "source": [
    "import pandas as pd\n",
    "import glob"
   ]
  },
  {
   "cell_type": "markdown",
   "id": "3cfc5b1a",
   "metadata": {},
   "source": [
    "# Data for CITI bikes"
   ]
  },
  {
   "cell_type": "code",
   "execution_count": 3,
   "id": "406f9912",
   "metadata": {},
   "outputs": [],
   "source": [
    "bike_files = glob.glob('bike-rental-starter-kit/data/JC*.csv')"
   ]
  },
  {
   "cell_type": "code",
   "execution_count": 6,
   "id": "e4d1c090",
   "metadata": {},
   "outputs": [],
   "source": [
    "df_list = []\n",
    "for i in bike_files:\n",
    "    data = pd.read_csv(i)\n",
    "    df_list.append(data)\n",
    "\n",
    "citi_bike = pd.concat(df_list)"
   ]
  },
  {
   "cell_type": "code",
   "execution_count": 7,
   "id": "3699d4cd",
   "metadata": {},
   "outputs": [
    {
     "name": "stdout",
     "output_type": "stream",
     "text": [
      "   Trip Duration           Start Time            Stop Time  Start Station ID  \\\n",
      "0            361  2016-02-01 00:31:18  2016-02-01 00:37:19              3202   \n",
      "1            297  2016-02-01 01:55:05  2016-02-01 02:00:02              3195   \n",
      "2           1155  2016-02-01 02:40:05  2016-02-01 02:59:20              3183   \n",
      "3           1769  2016-02-01 05:11:28  2016-02-01 05:40:58              3214   \n",
      "4            935  2016-02-01 05:48:24  2016-02-01 06:03:59              3203   \n",
      "\n",
      "  Start Station Name  Start Station Latitude  Start Station Longitude  \\\n",
      "0       Newport PATH               40.727224               -74.033759   \n",
      "1            Sip Ave               40.730743               -74.063784   \n",
      "2     Exchange Place               40.716247               -74.033459   \n",
      "3   Essex Light Rail               40.712774               -74.036486   \n",
      "4      Hamilton Park               40.727596               -74.044247   \n",
      "\n",
      "   End Station ID  End Station Name  End Station Latitude  \\\n",
      "0            3203     Hamilton Park             40.727596   \n",
      "1            3194   McGinley Square             40.725340   \n",
      "2            3210    Pershing Field             40.742677   \n",
      "3            3203     Hamilton Park             40.727596   \n",
      "4            3214  Essex Light Rail             40.712774   \n",
      "\n",
      "   End Station Longitude  Bike ID   User Type  Birth Year  Gender  \n",
      "0             -74.044247    24393  Subscriber      1975.0       1  \n",
      "1             -74.067622    24394  Subscriber      1985.0       2  \n",
      "2             -74.051789    24676  Subscriber      1976.0       1  \n",
      "3             -74.044247    24700  Subscriber      1974.0       2  \n",
      "4             -74.036486    24639  Subscriber      1974.0       2  \n"
     ]
    }
   ],
   "source": [
    "print(citi_bike.head())"
   ]
  },
  {
   "cell_type": "code",
   "execution_count": 8,
   "id": "3a22606d",
   "metadata": {},
   "outputs": [
    {
     "data": {
      "text/plain": [
       "Index(['Trip Duration', 'Start Time', 'Stop Time', 'Start Station ID',\n",
       "       'Start Station Name', 'Start Station Latitude',\n",
       "       'Start Station Longitude', 'End Station ID', 'End Station Name',\n",
       "       'End Station Latitude', 'End Station Longitude', 'Bike ID', 'User Type',\n",
       "       'Birth Year', 'Gender'],\n",
       "      dtype='object')"
      ]
     },
     "execution_count": 8,
     "metadata": {},
     "output_type": "execute_result"
    }
   ],
   "source": [
    "citi_bike.columns"
   ]
  },
  {
   "cell_type": "code",
   "execution_count": 9,
   "id": "b968ca98",
   "metadata": {},
   "outputs": [
    {
     "name": "stdout",
     "output_type": "stream",
     "text": [
      "<class 'pandas.core.frame.DataFrame'>\n",
      "Int64Index: 247584 entries, 0 to 19487\n",
      "Data columns (total 15 columns):\n",
      " #   Column                   Non-Null Count   Dtype  \n",
      "---  ------                   --------------   -----  \n",
      " 0   Trip Duration            247584 non-null  int64  \n",
      " 1   Start Time               247584 non-null  object \n",
      " 2   Stop Time                247584 non-null  object \n",
      " 3   Start Station ID         247584 non-null  int64  \n",
      " 4   Start Station Name       247584 non-null  object \n",
      " 5   Start Station Latitude   247584 non-null  float64\n",
      " 6   Start Station Longitude  247584 non-null  float64\n",
      " 7   End Station ID           247584 non-null  int64  \n",
      " 8   End Station Name         247584 non-null  object \n",
      " 9   End Station Latitude     247584 non-null  float64\n",
      " 10  End Station Longitude    247584 non-null  float64\n",
      " 11  Bike ID                  247584 non-null  int64  \n",
      " 12  User Type                247204 non-null  object \n",
      " 13  Birth Year               228585 non-null  float64\n",
      " 14  Gender                   247584 non-null  int64  \n",
      "dtypes: float64(5), int64(5), object(5)\n",
      "memory usage: 30.2+ MB\n"
     ]
    }
   ],
   "source": [
    "citi_bike.info()"
   ]
  },
  {
   "cell_type": "code",
   "execution_count": 10,
   "id": "b1cb921f",
   "metadata": {},
   "outputs": [
    {
     "data": {
      "text/html": [
       "<div>\n",
       "<style scoped>\n",
       "    .dataframe tbody tr th:only-of-type {\n",
       "        vertical-align: middle;\n",
       "    }\n",
       "\n",
       "    .dataframe tbody tr th {\n",
       "        vertical-align: top;\n",
       "    }\n",
       "\n",
       "    .dataframe thead th {\n",
       "        text-align: right;\n",
       "    }\n",
       "</style>\n",
       "<table border=\"1\" class=\"dataframe\">\n",
       "  <thead>\n",
       "    <tr style=\"text-align: right;\">\n",
       "      <th></th>\n",
       "      <th>Trip Duration</th>\n",
       "      <th>Start Station ID</th>\n",
       "      <th>Start Station Latitude</th>\n",
       "      <th>Start Station Longitude</th>\n",
       "      <th>End Station ID</th>\n",
       "      <th>End Station Latitude</th>\n",
       "      <th>End Station Longitude</th>\n",
       "      <th>Bike ID</th>\n",
       "      <th>Birth Year</th>\n",
       "      <th>Gender</th>\n",
       "    </tr>\n",
       "  </thead>\n",
       "  <tbody>\n",
       "    <tr>\n",
       "      <th>count</th>\n",
       "      <td>2.475840e+05</td>\n",
       "      <td>247584.000000</td>\n",
       "      <td>247584.000000</td>\n",
       "      <td>247584.000000</td>\n",
       "      <td>247584.000000</td>\n",
       "      <td>247584.000000</td>\n",
       "      <td>247584.000000</td>\n",
       "      <td>247584.000000</td>\n",
       "      <td>228585.000000</td>\n",
       "      <td>247584.000000</td>\n",
       "    </tr>\n",
       "    <tr>\n",
       "      <th>mean</th>\n",
       "      <td>8.856305e+02</td>\n",
       "      <td>3207.065206</td>\n",
       "      <td>40.723121</td>\n",
       "      <td>-74.046438</td>\n",
       "      <td>3203.572553</td>\n",
       "      <td>40.722594</td>\n",
       "      <td>-74.045855</td>\n",
       "      <td>24935.260481</td>\n",
       "      <td>1979.335276</td>\n",
       "      <td>1.123534</td>\n",
       "    </tr>\n",
       "    <tr>\n",
       "      <th>std</th>\n",
       "      <td>3.593798e+04</td>\n",
       "      <td>26.955103</td>\n",
       "      <td>0.008199</td>\n",
       "      <td>0.011211</td>\n",
       "      <td>61.579494</td>\n",
       "      <td>0.007958</td>\n",
       "      <td>0.011283</td>\n",
       "      <td>748.469712</td>\n",
       "      <td>9.596809</td>\n",
       "      <td>0.518687</td>\n",
       "    </tr>\n",
       "    <tr>\n",
       "      <th>min</th>\n",
       "      <td>6.100000e+01</td>\n",
       "      <td>3183.000000</td>\n",
       "      <td>40.692640</td>\n",
       "      <td>-74.096937</td>\n",
       "      <td>147.000000</td>\n",
       "      <td>40.692216</td>\n",
       "      <td>-74.096937</td>\n",
       "      <td>14552.000000</td>\n",
       "      <td>1900.000000</td>\n",
       "      <td>0.000000</td>\n",
       "    </tr>\n",
       "    <tr>\n",
       "      <th>25%</th>\n",
       "      <td>2.480000e+02</td>\n",
       "      <td>3186.000000</td>\n",
       "      <td>40.717732</td>\n",
       "      <td>-74.050656</td>\n",
       "      <td>3186.000000</td>\n",
       "      <td>40.716540</td>\n",
       "      <td>-74.050444</td>\n",
       "      <td>24491.000000</td>\n",
       "      <td>1974.000000</td>\n",
       "      <td>1.000000</td>\n",
       "    </tr>\n",
       "    <tr>\n",
       "      <th>50%</th>\n",
       "      <td>3.900000e+02</td>\n",
       "      <td>3201.000000</td>\n",
       "      <td>40.721525</td>\n",
       "      <td>-74.044247</td>\n",
       "      <td>3199.000000</td>\n",
       "      <td>40.721124</td>\n",
       "      <td>-74.043117</td>\n",
       "      <td>24609.000000</td>\n",
       "      <td>1981.000000</td>\n",
       "      <td>1.000000</td>\n",
       "    </tr>\n",
       "    <tr>\n",
       "      <th>75%</th>\n",
       "      <td>6.660000e+02</td>\n",
       "      <td>3211.000000</td>\n",
       "      <td>40.727596</td>\n",
       "      <td>-74.038051</td>\n",
       "      <td>3211.000000</td>\n",
       "      <td>40.727224</td>\n",
       "      <td>-74.036486</td>\n",
       "      <td>24719.000000</td>\n",
       "      <td>1986.000000</td>\n",
       "      <td>1.000000</td>\n",
       "    </tr>\n",
       "    <tr>\n",
       "      <th>max</th>\n",
       "      <td>1.632981e+07</td>\n",
       "      <td>3426.000000</td>\n",
       "      <td>40.752559</td>\n",
       "      <td>-74.032108</td>\n",
       "      <td>3426.000000</td>\n",
       "      <td>40.801343</td>\n",
       "      <td>-73.957390</td>\n",
       "      <td>27274.000000</td>\n",
       "      <td>2000.000000</td>\n",
       "      <td>2.000000</td>\n",
       "    </tr>\n",
       "  </tbody>\n",
       "</table>\n",
       "</div>"
      ],
      "text/plain": [
       "       Trip Duration  Start Station ID  Start Station Latitude  \\\n",
       "count   2.475840e+05     247584.000000           247584.000000   \n",
       "mean    8.856305e+02       3207.065206               40.723121   \n",
       "std     3.593798e+04         26.955103                0.008199   \n",
       "min     6.100000e+01       3183.000000               40.692640   \n",
       "25%     2.480000e+02       3186.000000               40.717732   \n",
       "50%     3.900000e+02       3201.000000               40.721525   \n",
       "75%     6.660000e+02       3211.000000               40.727596   \n",
       "max     1.632981e+07       3426.000000               40.752559   \n",
       "\n",
       "       Start Station Longitude  End Station ID  End Station Latitude  \\\n",
       "count            247584.000000   247584.000000         247584.000000   \n",
       "mean                -74.046438     3203.572553             40.722594   \n",
       "std                   0.011211       61.579494              0.007958   \n",
       "min                 -74.096937      147.000000             40.692216   \n",
       "25%                 -74.050656     3186.000000             40.716540   \n",
       "50%                 -74.044247     3199.000000             40.721124   \n",
       "75%                 -74.038051     3211.000000             40.727224   \n",
       "max                 -74.032108     3426.000000             40.801343   \n",
       "\n",
       "       End Station Longitude        Bike ID     Birth Year         Gender  \n",
       "count          247584.000000  247584.000000  228585.000000  247584.000000  \n",
       "mean              -74.045855   24935.260481    1979.335276       1.123534  \n",
       "std                 0.011283     748.469712       9.596809       0.518687  \n",
       "min               -74.096937   14552.000000    1900.000000       0.000000  \n",
       "25%               -74.050444   24491.000000    1974.000000       1.000000  \n",
       "50%               -74.043117   24609.000000    1981.000000       1.000000  \n",
       "75%               -74.036486   24719.000000    1986.000000       1.000000  \n",
       "max               -73.957390   27274.000000    2000.000000       2.000000  "
      ]
     },
     "execution_count": 10,
     "metadata": {},
     "output_type": "execute_result"
    }
   ],
   "source": [
    "citi_bike.describe()"
   ]
  },
  {
   "cell_type": "code",
   "execution_count": 12,
   "id": "c7ffd599",
   "metadata": {},
   "outputs": [
    {
     "data": {
      "text/plain": [
       "(247584, 15)"
      ]
     },
     "execution_count": 12,
     "metadata": {},
     "output_type": "execute_result"
    }
   ],
   "source": [
    "citi_bike.shape"
   ]
  },
  {
   "cell_type": "code",
   "execution_count": null,
   "id": "e9457fe3",
   "metadata": {},
   "outputs": [],
   "source": []
  }
 ],
 "metadata": {
  "kernelspec": {
   "display_name": "Python 3",
   "language": "python",
   "name": "python3"
  },
  "language_info": {
   "codemirror_mode": {
    "name": "ipython",
    "version": 3
   },
   "file_extension": ".py",
   "mimetype": "text/x-python",
   "name": "python",
   "nbconvert_exporter": "python",
   "pygments_lexer": "ipython3",
   "version": "3.8.8"
  }
 },
 "nbformat": 4,
 "nbformat_minor": 5
}
