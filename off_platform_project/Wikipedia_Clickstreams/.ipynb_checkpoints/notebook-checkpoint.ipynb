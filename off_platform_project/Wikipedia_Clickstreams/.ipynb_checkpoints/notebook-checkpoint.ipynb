{
 "cells": [
  {
   "cell_type": "markdown",
   "id": "d8b84805",
   "metadata": {},
   "source": [
    "# Analyzing Wikipedia Clickstream Data\n",
    "* [View Solution Notebook](./solution.html)\n",
    "\n",
    "* [Project Page Link](https://www.codecademy.com/courses/big-data-pyspark/projects/analyzing-wikipedia-pyspark)"
   ]
  },
  {
   "cell_type": "markdown",
   "id": "8fddc058",
   "metadata": {},
   "source": [
    "### Import Libraries"
   ]
  },
  {
   "cell_type": "code",
   "execution_count": 1,
   "id": "33467f42",
   "metadata": {},
   "outputs": [],
   "source": [
    "from pyspark.sql import SparkSession"
   ]
  },
  {
   "cell_type": "markdown",
   "id": "b2313603",
   "metadata": {},
   "source": [
    "## Task Group 1 - Introduction to Clickstream Data"
   ]
  },
  {
   "cell_type": "markdown",
   "id": "291ad84f",
   "metadata": {},
   "source": [
    "### Task 1\n",
    "Create a new `SparkSession` and assign it to a variable named `spark`."
   ]
  },
  {
   "cell_type": "code",
   "execution_count": 2,
   "id": "13837f16",
   "metadata": {},
   "outputs": [],
   "source": [
    "# Create a new SparkSession\n",
    "spark = SparkSession\\\n",
    "    .builder\\\n",
    "    .config('spark.app.name', 'learning_spark_sql')\\\n",
    "    .getOrCreate()"
   ]
  },
  {
   "cell_type": "markdown",
   "id": "377fbbef",
   "metadata": {},
   "source": [
    "### Task 2\n",
    "\n",
    "Create an RDD from a list of sample clickstream counts and save it as `clickstream_counts_rdd`."
   ]
  },
  {
   "cell_type": "code",
   "execution_count": 3,
   "id": "92b1a38b",
   "metadata": {},
   "outputs": [],
   "source": [
    "# Sample clickstream counts\n",
    "sample_clickstream_counts = [\n",
    "    [\"other-search\", \"Hanging_Gardens_of_Babylon\", \"external\", 47000],\n",
    "    [\"other-empty\", \"Hanging_Gardens_of_Babylon\", \"external\", 34600],\n",
    "    [\"Wonders_of_the_World\", \"Hanging_Gardens_of_Babylon\", \"link\", 14000],\n",
    "    [\"Babylon\", \"Hanging_Gardens_of_Babylon\", \"link\", 2500]\n",
    "]\n",
    "\n",
    "# Create RDD from sample data\n",
    "clickstream_counts_rdd = spark.sparkContext.parallelize(sample_clickstream_counts)"
   ]
  },
  {
   "cell_type": "markdown",
   "id": "4ae6f0d2",
   "metadata": {},
   "source": [
    "### Task 3\n",
    "\n",
    "Using the RDD from the previous step, create a DataFrame named `clickstream_sample_df`"
   ]
  },
  {
   "cell_type": "code",
   "execution_count": null,
   "id": "12dd3ee7",
   "metadata": {},
   "outputs": [],
   "source": [
    "# Create a DataFrame from the RDD of sample clickstream counts\n",
    "clickstream_sample_df = spark.toDF(['source_page', 'target_page', 'link_category', 'link_count'])\n",
    "\n",
    "# Display the DataFrame to the notebook\n"
   ]
  },
  {
   "cell_type": "markdown",
   "id": "1268c0b0",
   "metadata": {},
   "source": [
    "## Task Group 2 - Inspecting Clickstream Data"
   ]
  },
  {
   "cell_type": "markdown",
   "id": "1de43074",
   "metadata": {},
   "source": [
    "### Task 4\n",
    "\n",
    "Read the files in `./cleaned/clickstream/` into a new Spark DataFrame named `clickstream` and display the first few rows of the DataFrame in the notebook"
   ]
  },
  {
   "cell_type": "code",
   "execution_count": null,
   "id": "b1e284f2",
   "metadata": {},
   "outputs": [],
   "source": [
    "# Read the target directory (`./cleaned/clickstream/`) into a DataFrame (`clickstream`)\n",
    "clickstream = \n",
    "\n",
    "# Display the DataFrame to the notebook\n"
   ]
  },
  {
   "cell_type": "markdown",
   "id": "bdeb6013",
   "metadata": {},
   "source": [
    "### Task 5\n",
    "\n",
    "Print the schema of the DataFrame in the notebook."
   ]
  },
  {
   "cell_type": "code",
   "execution_count": null,
   "id": "934cc169",
   "metadata": {},
   "outputs": [],
   "source": [
    "# Display the schema of the `clickstream` DataFrame to the notebook\n"
   ]
  },
  {
   "cell_type": "markdown",
   "id": "02f18366",
   "metadata": {},
   "source": [
    "### Task 6\n",
    "\n",
    "Drop the `language_code` column from the DataFrame and display the new schema in the notebook."
   ]
  },
  {
   "cell_type": "code",
   "execution_count": null,
   "id": "17fa2a20",
   "metadata": {},
   "outputs": [],
   "source": [
    "# Drop target columns\n",
    "clickstream = \n",
    "\n",
    "# Display the first few rows of the DataFrame\n",
    "\n",
    "# Display the new schema in the notebook\n"
   ]
  },
  {
   "cell_type": "markdown",
   "id": "33ed64a3",
   "metadata": {},
   "source": [
    "### Task 7\n",
    "\n",
    "Rename `referrer` and `resource` to `source_page` and `target_page`, respectively,"
   ]
  },
  {
   "cell_type": "code",
   "execution_count": null,
   "id": "0b75baed",
   "metadata": {},
   "outputs": [],
   "source": [
    "# Rename `referrer` and `resource` to `source_page` and `target_page`\n",
    "clickstream = \n",
    "  \n",
    "# Display the first few rows of the DataFrame\n",
    "\n",
    "# Display the new schema in the notebook\n"
   ]
  },
  {
   "cell_type": "markdown",
   "id": "572ce589",
   "metadata": {},
   "source": [
    "## Task Group 3 - Querying Clickstream Data"
   ]
  },
  {
   "cell_type": "markdown",
   "id": "2b8a031d",
   "metadata": {},
   "source": [
    "### Task 8\n",
    "\n",
    "Add the `clickstream` DataFrame as a temporary view named `clickstream` to make the data queryable with `sparkSession.sql()`"
   ]
  },
  {
   "cell_type": "code",
   "execution_count": null,
   "id": "f017bdd8",
   "metadata": {},
   "outputs": [],
   "source": [
    "# Create a temporary view in the metadata for this `SparkSession` \n"
   ]
  },
  {
   "cell_type": "markdown",
   "id": "afd76c53",
   "metadata": {},
   "source": [
    "### Task 9\n",
    "\n",
    "Filter the dataset to entries with `Hanging_Gardens_of_Babylon` as the `target_page` and order the result by `click_count` using PySpark DataFrame methods."
   ]
  },
  {
   "cell_type": "code",
   "execution_count": null,
   "id": "6c20a4de",
   "metadata": {},
   "outputs": [],
   "source": [
    "# Filter and sort the DataFrame using PySpark DataFrame methods\n"
   ]
  },
  {
   "cell_type": "markdown",
   "id": "f5426a56",
   "metadata": {},
   "source": [
    "### Task 10\n",
    "\n",
    "Perform the same analysis as the previous exercise using a SQL query. "
   ]
  },
  {
   "cell_type": "code",
   "execution_count": null,
   "id": "a49bbec6",
   "metadata": {
    "scrolled": true
   },
   "outputs": [],
   "source": [
    "# Filter and sort the DataFrame using SQL\n"
   ]
  },
  {
   "cell_type": "markdown",
   "id": "0b4d53e9",
   "metadata": {},
   "source": [
    "### Task 11\n",
    "\n",
    "Calculate the sum of `click_count` grouped by `link_category` using PySpark DataFrame methods."
   ]
  },
  {
   "cell_type": "code",
   "execution_count": null,
   "id": "38bac86c",
   "metadata": {},
   "outputs": [],
   "source": [
    "# Aggregate the DataFrame using PySpark DataFrame Methods \n"
   ]
  },
  {
   "cell_type": "markdown",
   "id": "461eadc9",
   "metadata": {},
   "source": [
    "### Task 12\n",
    "\n",
    "Perform the same analysis as the previous exercise using a SQL query."
   ]
  },
  {
   "cell_type": "code",
   "execution_count": null,
   "id": "817ff99e",
   "metadata": {},
   "outputs": [],
   "source": [
    "# Aggregate the DataFrame using SQL\n"
   ]
  },
  {
   "cell_type": "markdown",
   "id": "c8b756c1",
   "metadata": {},
   "source": [
    "## Task Group 4 - Saving Results to Disk"
   ]
  },
  {
   "cell_type": "markdown",
   "id": "79110ef5",
   "metadata": {},
   "source": [
    "### Task 13\n",
    "\n",
    "Let's create a new DataFrame named `internal_clickstream` that only contains article pairs where `link_category` is `link`. Use `filter()` to select rows to a specific condition and `select()` to choose which columns to return from the query."
   ]
  },
  {
   "cell_type": "code",
   "execution_count": null,
   "id": "29e74d43",
   "metadata": {},
   "outputs": [],
   "source": [
    "# Create a new DataFrame named `internal_clickstream`\n",
    "internal_clickstream = \n",
    "\n",
    "# Display the first few rows of the DataFrame in the notebook\n"
   ]
  },
  {
   "cell_type": "markdown",
   "id": "45f45f94",
   "metadata": {},
   "source": [
    "### Task 14\n",
    "\n",
    "Using `DataFrame.write.csv()`, save the `internal_clickstream` DataFrame as CSV files in a directory called `./results/article_to_article_csv/`."
   ]
  },
  {
   "cell_type": "code",
   "execution_count": null,
   "id": "93c015ca",
   "metadata": {},
   "outputs": [],
   "source": [
    "# Save the `internal_clickstream` DataFrame to a series of CSV files\n"
   ]
  },
  {
   "cell_type": "markdown",
   "id": "aa754d6b",
   "metadata": {},
   "source": [
    "### Task 15\n",
    "\n",
    "Using `DataFrame.write.parquet()`, save the `internal_clickstream` DataFrame as parquet files in a directory called `./results/article_to_article_pq/`."
   ]
  },
  {
   "cell_type": "code",
   "execution_count": null,
   "id": "3d542098",
   "metadata": {},
   "outputs": [],
   "source": [
    "# Save the `internal_clickstream` DataFrame to a series of parquet files\n"
   ]
  },
  {
   "cell_type": "markdown",
   "id": "01cbf22c",
   "metadata": {},
   "source": [
    "### Task 16\n",
    "\n",
    "Close the `SparkSession` and underlying `SparkContext`. What happens if you we call `clickstream.show()` after closing the `SparkSession`?"
   ]
  },
  {
   "cell_type": "code",
   "execution_count": null,
   "id": "55b2c378",
   "metadata": {},
   "outputs": [],
   "source": [
    "# Stop the notebook's `SparkSession` and `SparkContext`\n"
   ]
  },
  {
   "cell_type": "code",
   "execution_count": null,
   "id": "0b663c73",
   "metadata": {},
   "outputs": [],
   "source": [
    "# The SparkSession and sparkContext are stopped; the following line will throw an error:\n",
    "clickstream.show()"
   ]
  }
 ],
 "metadata": {
  "kernelspec": {
   "display_name": "Python 3",
   "language": "python",
   "name": "python3"
  },
  "language_info": {
   "codemirror_mode": {
    "name": "ipython",
    "version": 3
   },
   "file_extension": ".py",
   "mimetype": "text/x-python",
   "name": "python",
   "nbconvert_exporter": "python",
   "pygments_lexer": "ipython3",
   "version": "3.8.8"
  }
 },
 "nbformat": 4,
 "nbformat_minor": 5
}
